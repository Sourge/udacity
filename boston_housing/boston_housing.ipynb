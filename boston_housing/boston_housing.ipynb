{
 "cells": [
  {
   "cell_type": "markdown",
   "metadata": {},
   "source": [
    "# Machine Learning Engineer Nanodegree\n",
    "## Model Evaluation & Validation\n",
    "## Project 1: Predicting Boston Housing Prices\n",
    "\n",
    "Welcome to the first project of the Machine Learning Engineer Nanodegree! In this notebook, some template code has already been provided for you, and you will need to implement additional functionality to successfully complete this project. You will not need to modify the included code beyond what is requested. Sections that begin with **'Implementation'** in the header indicate that the following block of code will require additional functionality which you must provide. Instructions will be provided for each section and the specifics of the implementation are marked in the code block with a 'TODO' statement. Please be sure to read the instructions carefully!\n",
    "\n",
    "In addition to implementing code, there will be questions that you must answer which relate to the project and your implementation. Each section where you will answer a question is preceded by a **'Question X'** header. Carefully read each question and provide thorough answers in the following text boxes that begin with **'Answer:'**. Your project submission will be evaluated based on your answers to each of the questions and the implementation you provide.  \n",
    "\n",
    ">**Note:** Code and Markdown cells can be executed using the **Shift + Enter** keyboard shortcut. In addition, Markdown cells can be edited by typically double-clicking the cell to enter edit mode."
   ]
  },
  {
   "cell_type": "markdown",
   "metadata": {},
   "source": [
    "## Getting Started\n",
    "In this project, you will evaluate the performance and predictive power of a model that has been trained and tested on data collected from homes in suburbs of Boston, Massachusetts. A model trained on this data that is seen as a *good fit* could then be used to make certain predictions about a home — in particular, its monetary value. This model would prove to be invaluable for someone like a real estate agent who could make use of such information on a daily basis.\n",
    "\n",
    "The dataset for this project originates from the [UCI Machine Learning Repository](https://archive.ics.uci.edu/ml/datasets/Housing). The Boston housing data was collected in 1978 and each of the 506 entries represent aggregated data about 14 features for homes from various suburbs in Boston, Massachusetts. For the purposes of this project, the following preprocessing steps have been made to the dataset:\n",
    "- 16 data points have an `'MEDV'` value of 50.0. These data points likely contain **missing or censored values** and have been removed.\n",
    "- 1 data point has an `'RM'` value of 8.78. This data point can be considered an **outlier** and has been removed.\n",
    "- The features `'RM'`, `'LSTAT'`, `'PTRATIO'`, and `'MEDV'` are essential. The remaining **non-relevant features** have been excluded.\n",
    "- The feature `'MEDV'` has been **multiplicatively scaled** to account for 35 years of market inflation.\n",
    "\n",
    "Run the code cell below to load the Boston housing dataset, along with a few of the necessary Python libraries required for this project. You will know the dataset loaded successfully if the size of the dataset is reported."
   ]
  },
  {
   "cell_type": "code",
   "execution_count": 1,
   "metadata": {
    "collapsed": false
   },
   "outputs": [
    {
     "name": "stdout",
     "output_type": "stream",
     "text": [
      "Boston housing dataset has 489 data points with 4 variables each.\n"
     ]
    }
   ],
   "source": [
    "# Import libraries necessary for this project\n",
    "import numpy as np\n",
    "import pandas as pd\n",
    "import visuals as vs # Supplementary code\n",
    "from sklearn.cross_validation import ShuffleSplit\n",
    "\n",
    "# Pretty display for notebooks\n",
    "%matplotlib inline\n",
    "\n",
    "# Load the Boston housing dataset\n",
    "data = pd.read_csv('housing.csv')\n",
    "prices = data['MEDV']\n",
    "features = data.drop('MEDV', axis = 1)\n",
    "    \n",
    "# Success\n",
    "print \"Boston housing dataset has {} data points with {} variables each.\".format(*data.shape)"
   ]
  },
  {
   "cell_type": "markdown",
   "metadata": {},
   "source": [
    "## Data Exploration\n",
    "In this first section of this project, you will make a cursory investigation about the Boston housing data and provide your observations. Familiarizing yourself with the data through an explorative process is a fundamental practice to help you better understand and justify your results.\n",
    "\n",
    "Since the main goal of this project is to construct a working model which has the capability of predicting the value of houses, we will need to separate the dataset into **features** and the **target variable**. The **features**, `'RM'`, `'LSTAT'`, and `'PTRATIO'`, give us quantitative information about each data point. The **target variable**, `'MEDV'`, will be the variable we seek to predict. These are stored in `features` and `prices`, respectively."
   ]
  },
  {
   "cell_type": "markdown",
   "metadata": {},
   "source": [
    "### Implementation: Calculate Statistics\n",
    "For your very first coding implementation, you will calculate descriptive statistics about the Boston housing prices. Since `numpy` has already been imported for you, use this library to perform the necessary calculations. These statistics will be extremely important later on to analyze various prediction results from the constructed model.\n",
    "\n",
    "In the code cell below, you will need to implement the following:\n",
    "- Calculate the minimum, maximum, mean, median, and standard deviation of `'MEDV'`, which is stored in `prices`.\n",
    "  - Store each calculation in their respective variable."
   ]
  },
  {
   "cell_type": "code",
   "execution_count": 7,
   "metadata": {
    "collapsed": false
   },
   "outputs": [
    {
     "name": "stdout",
     "output_type": "stream",
     "text": [
      "Statistics for Boston housing dataset:\n",
      "\n",
      "Minimum price: $105,000.00\n",
      "Maximum price: $1,024,800.00\n",
      "Mean price: $454,342.94\n",
      "Median price $438,900.00\n",
      "Standard deviation of prices: $165,171.13\n"
     ]
    }
   ],
   "source": [
    "# TODO: Minimum price of the data\n",
    "minimum_price = prices.min()\n",
    "\n",
    "# TODO: Maximum price of the data\n",
    "maximum_price = prices.max()\n",
    "\n",
    "# TODO: Mean price of the data\n",
    "mean_price = np.mean(prices)\n",
    "\n",
    "# TODO: Median price of the data\n",
    "median_price = np.median(prices)\n",
    "\n",
    "# TODO: Standard deviation of prices of the data\n",
    "std_price = np.std(prices)\n",
    "\n",
    "# Show the calculated statistics\n",
    "print \"Statistics for Boston housing dataset:\\n\"\n",
    "print \"Minimum price: ${:,.2f}\".format(minimum_price)\n",
    "print \"Maximum price: ${:,.2f}\".format(maximum_price)\n",
    "print \"Mean price: ${:,.2f}\".format(mean_price)\n",
    "print \"Median price ${:,.2f}\".format(median_price)\n",
    "print \"Standard deviation of prices: ${:,.2f}\".format(std_price)"
   ]
  },
  {
   "cell_type": "markdown",
   "metadata": {},
   "source": [
    "### Question 1 - Feature Observation\n",
    "As a reminder, we are using three features from the Boston housing dataset: `'RM'`, `'LSTAT'`, and `'PTRATIO'`. For each data point (neighborhood):\n",
    "- `'RM'` is the average number of rooms among homes in the neighborhood.\n",
    "- `'LSTAT'` is the percentage of homeowners in the neighborhood considered \"lower class\" (working poor).\n",
    "- `'PTRATIO'` is the ratio of students to teachers in primary and secondary schools in the neighborhood.\n",
    "\n",
    "_Using your intuition, for each of the three features above, do you think that an increase in the value of that feature would lead to an **increase** in the value of `'MEDV'` or a **decrease** in the value of `'MEDV'`? Justify your answer for each._  \n",
    "**Hint:** Would you expect a home that has an `'RM'` value of 6 be worth more or less than a home that has an `'RM'` value of 7?"
   ]
  },
  {
   "cell_type": "markdown",
   "metadata": {},
   "source": [
    "**Answer: **\n",
    "### RM\n",
    "With the number of rooms the size of the house most likely increase. Therefore an increase in 'RM' leads to an increase in 'MEDV' in most cases.\n",
    "### LSTAT\n",
    "I expect a House with a lower percentage of lower class homeowners in the neighboorhood to be in a \"better\" neighborhood, thus having a increased price. So I assume a higher 'LSTAT' decreases the value of 'MEDV'. \n",
    "### PTRATIO\n",
    "I guess for this feature you can say it increases 'MEDV' with its own increase. Most upperclass families have very few to no children so this feature also kind of talks about the neighborhood."
   ]
  },
  {
   "cell_type": "markdown",
   "metadata": {},
   "source": [
    "----\n",
    "\n",
    "## Developing a Model\n",
    "In this second section of the project, you will develop the tools and techniques necessary for a model to make a prediction. Being able to make accurate evaluations of each model's performance through the use of these tools and techniques helps to greatly reinforce the confidence in your predictions."
   ]
  },
  {
   "cell_type": "markdown",
   "metadata": {},
   "source": [
    "### Implementation: Define a Performance Metric\n",
    "It is difficult to measure the quality of a given model without quantifying its performance over training and testing. This is typically done using some type of performance metric, whether it is through calculating some type of error, the goodness of fit, or some other useful measurement. For this project, you will be calculating the [*coefficient of determination*](http://stattrek.com/statistics/dictionary.aspx?definition=coefficient_of_determination), R<sup>2</sup>, to quantify your model's performance. The coefficient of determination for a model is a useful statistic in regression analysis, as it often describes how \"good\" that model is at making predictions. \n",
    "\n",
    "The values for R<sup>2</sup> range from 0 to 1, which captures the percentage of squared correlation between the predicted and actual values of the **target variable**. A model with an R<sup>2</sup> of 0 always fails to predict the target variable, whereas a model with an R<sup>2</sup> of 1 perfectly predicts the target variable. Any value between 0 and 1 indicates what percentage of the target variable, using this model, can be explained by the **features**. *A model can be given a negative R<sup>2</sup> as well, which indicates that the model is no better than one that naively predicts the mean of the target variable.*\n",
    "\n",
    "For the `performance_metric` function in the code cell below, you will need to implement the following:\n",
    "- Use `r2_score` from `sklearn.metrics` to perform a performance calculation between `y_true` and `y_predict`.\n",
    "- Assign the performance score to the `score` variable."
   ]
  },
  {
   "cell_type": "code",
   "execution_count": 12,
   "metadata": {
    "collapsed": false
   },
   "outputs": [],
   "source": [
    "# TODO: Import 'r2_score'\n",
    "from sklearn.metrics import r2_score \n",
    "def performance_metric(y_true, y_predict):\n",
    "    \"\"\" Calculates and returns the performance score between \n",
    "        true and predicted values based on the metric chosen. \"\"\"\n",
    "    \n",
    "    # TODO: Calculate the performance score between 'y_true' and 'y_predict'\n",
    "    score = r2_score(y_true,y_predict)\n",
    "    \n",
    "    # Return the score\n",
    "    return score"
   ]
  },
  {
   "cell_type": "markdown",
   "metadata": {},
   "source": [
    "### Question 2 - Goodness of Fit\n",
    "Assume that a dataset contains five data points and a model made the following predictions for the target variable:\n",
    "\n",
    "| True Value | Prediction |\n",
    "| :-------------: | :--------: |\n",
    "| 3.0 | 2.5 |\n",
    "| -0.5 | 0.0 |\n",
    "| 2.0 | 2.1 |\n",
    "| 7.0 | 7.8 |\n",
    "| 4.2 | 5.3 |\n",
    "*Would you consider this model to have successfully captured the variation of the target variable? Why or why not?* \n",
    "\n",
    "Run the code cell below to use the `performance_metric` function and calculate this model's coefficient of determination."
   ]
  },
  {
   "cell_type": "code",
   "execution_count": 13,
   "metadata": {
    "collapsed": false
   },
   "outputs": [
    {
     "name": "stdout",
     "output_type": "stream",
     "text": [
      "0.922855648536\n",
      "Model has a coefficient of determination, R^2, of 0.923.\n"
     ]
    }
   ],
   "source": [
    "# Calculate the performance of this model\n",
    "score = performance_metric([3, -0.5, 2, 7, 4.2], [2.5, 0.0, 2.1, 7.8, 5.3])\n",
    "print \"Model has a coefficient of determination, R^2, of {:.3f}.\".format(score)"
   ]
  },
  {
   "cell_type": "markdown",
   "metadata": {},
   "source": [
    "**Answer:**\n",
    "##### *Would you consider this model to have successfully captured the variation of the target variable? Why or why not?*\n",
    "I would say yes, because the predicted values are really close to the true value in most cases (unless the last one). The R^2 value of *0.923* for this prediction also supports this statement.\n"
   ]
  },
  {
   "cell_type": "markdown",
   "metadata": {},
   "source": [
    "### Implementation: Shuffle and Split Data\n",
    "Your next implementation requires that you take the Boston housing dataset and split the data into training and testing subsets. Typically, the data is also shuffled into a random order when creating the training and testing subsets to remove any bias in the ordering of the dataset.\n",
    "\n",
    "For the code cell below, you will need to implement the following:\n",
    "- Use `train_test_split` from `sklearn.cross_validation` to shuffle and split the `features` and `prices` data into training and testing sets.\n",
    "  - Split the data into 80% training and 20% testing.\n",
    "  - Set the `random_state` for `train_test_split` to a value of your choice. This ensures results are consistent.\n",
    "- Assign the train and testing splits to `X_train`, `X_test`, `y_train`, and `y_test`."
   ]
  },
  {
   "cell_type": "code",
   "execution_count": 15,
   "metadata": {
    "collapsed": false
   },
   "outputs": [
    {
     "name": "stdout",
     "output_type": "stream",
     "text": [
      "Training and testing split was successful.\n"
     ]
    }
   ],
   "source": [
    "# TODO: Import 'train_test_split'\n",
    "from sklearn.cross_validation import train_test_split as ttf\n",
    "# TODO: Shuffle and split the data into training and testing subsets\n",
    "X_train, X_test, y_train, y_test = ttf(features,prices,train_size=.8,test_size=.2,random_state=8)\n",
    "\n",
    "# Success\n",
    "print \"Training and testing split was successful.\""
   ]
  },
  {
   "cell_type": "markdown",
   "metadata": {},
   "source": [
    "### Question 3 - Training and Testing\n",
    "*What is the benefit to splitting a dataset into some ratio of training and testing subsets for a learning algorithm?*  \n",
    "**Hint:** What could go wrong with not having a way to test your model?"
   ]
  },
  {
   "cell_type": "markdown",
   "metadata": {},
   "source": [
    "**Answer: **\n",
    "##### *What is the benefit to splitting a dataset into some ratio of training and testing subsets for a learning algorithm?*\n",
    "For a learning algorithm, you will need some data to train the algorithm. Thus we need training data. To ensure the functionality of the algorithm and get a metric, we also need to have some data for testing. Testing means, we compare the output of the algorithm with the results of the test data for the same inputs. If this data would be the same as the training data, we have the risk of overfitting the algorithm (which will very likely happen in this case). We might get 100% results for this training set, but only for this set of data. So we need training data to fit the algorithm, but also a different set of data to test the algorithm on different data. "
   ]
  },
  {
   "cell_type": "markdown",
   "metadata": {},
   "source": [
    "----\n",
    "\n",
    "## Analyzing Model Performance\n",
    "In this third section of the project, you'll take a look at several models' learning and testing performances on various subsets of training data. Additionally, you'll investigate one particular algorithm with an increasing `'max_depth'` parameter on the full training set to observe how model complexity affects performance. Graphing your model's performance based on varying criteria can be beneficial in the analysis process, such as visualizing behavior that may not have been apparent from the results alone."
   ]
  },
  {
   "cell_type": "markdown",
   "metadata": {},
   "source": [
    "### Learning Curves\n",
    "The following code cell produces four graphs for a decision tree model with different maximum depths. Each graph visualizes the learning curves of the model for both training and testing as the size of the training set is increased. Note that the shaded region of a learning curve denotes the uncertainty of that curve (measured as the standard deviation). The model is scored on both the training and testing sets using R<sup>2</sup>, the coefficient of determination.  \n",
    "\n",
    "Run the code cell below and use these graphs to answer the following question."
   ]
  },
  {
   "cell_type": "code",
   "execution_count": 16,
   "metadata": {
    "collapsed": false,
    "scrolled": false
   },
   "outputs": [
    {
     "data": {
      "image/png": "[encoded data removed]",
      "text/plain": [
       "<matplotlib.figure.Figure at 0xb555588>"
      ]
     },
     "metadata": {},
     "output_type": "display_data"
    }
   ],
   "source": [
    "# Produce learning curves for varying training set sizes and maximum depths\n",
    "vs.ModelLearning(features, prices)"
   ]
  },
  {
   "cell_type": "markdown",
   "metadata": {},
   "source": [
    "### Question 4 - Learning the Data\n",
    "*Choose one of the graphs above and state the maximum depth for the model. What happens to the score of the training curve as more training points are added? What about the testing curve? Would having more training points benefit the model?*  \n",
    "**Hint:** Are the learning curves converging to particular scores?"
   ]
  },
  {
   "cell_type": "markdown",
   "metadata": {},
   "source": [
    "**Answer: **\n",
    "##### *Choose one of the graphs above and state the maximum depth for the model. What happens to the score of the training curve as more training points are added?*\n",
    "I choose the **upper right** graph. Its maximum depth is **3**. The curve of the training score decreases with more training points added. This is due to the algorithm overfitting with really few (< 50) samples.\n",
    "##### *What about the testing curve?*\n",
    "The testing curve is rising with more training points because more training points lead (in most cases) to better overall coverage (unless your algorithm is overfitted).\n",
    "##### *Would having more training points benefit the model?*\n",
    "I think this depends on the structure of the data. If the added training points consist of many outliers, this would not be beneficial. But for \"normal\" training data, this would most likely benefit the model. This hold at least for the point where the model converges to a particular score. At this point more training points would not really benefit the model.\n"
   ]
  },
  {
   "cell_type": "markdown",
   "metadata": {},
   "source": [
    "### Complexity Curves\n",
    "The following code cell produces a graph for a decision tree model that has been trained and validated on the training data using different maximum depths. The graph produces two complexity curves — one for training and one for validation. Similar to the **learning curves**, the shaded regions of both the complexity curves denote the uncertainty in those curves, and the model is scored on both the training and validation sets using the `performance_metric` function.  \n",
    "\n",
    "Run the code cell below and use this graph to answer the following two questions."
   ]
  },
  {
   "cell_type": "code",
   "execution_count": 17,
   "metadata": {
    "collapsed": false
   },
   "outputs": [
    {
     "data": {
      "image/png": "[encoded data removed]",
      "text/plain": [
       "<matplotlib.figure.Figure at 0xb79cef0>"
      ]
     },
     "metadata": {},
     "output_type": "display_data"
    }
   ],
   "source": [
    "vs.ModelComplexity(X_train, y_train)"
   ]
  },
  {
   "cell_type": "markdown",
   "metadata": {},
   "source": [
    "### Question 5 - Bias-Variance Tradeoff\n",
    "*When the model is trained with a maximum depth of 1, does the model suffer from high bias or from high variance? How about when the model is trained with a maximum depth of 10? What visual cues in the graph justify your conclusions?*  \n",
    "**Hint:** How do you know when a model is suffering from high bias or high variance?"
   ]
  },
  {
   "cell_type": "markdown",
   "metadata": {},
   "source": [
    "**Answer: **\n",
    "##### *When the model is trained with a maximum depth of 1, does the model suffer from high bias or from high variance?*\n",
    "This Model suffers from high variance as the depth is not enough to fully represent the whole data set.\n",
    "##### *How about when the model is trained with a maximum depth of 10?*\n",
    "This Model suffers from high bias as the model seems to be overfitted.\n",
    "##### *What visual cues in the graph justify your conclusions?*\n",
    "My Conclusions are justified by the low scores for the model with a depth of 1. From a depth of 3 on the training score of the model increases and the validation score decreases which is a cue for overfitting as the model seems to be too specialized only for this particular set of training data.\n"
   ]
  },
  {
   "cell_type": "markdown",
   "metadata": {},
   "source": [
    "### Question 6 - Best-Guess Optimal Model\n",
    "*Which maximum depth do you think results in a model that best generalizes to unseen data? What intuition lead you to this answer?*"
   ]
  },
  {
   "cell_type": "markdown",
   "metadata": {},
   "source": [
    "**Answer: **\n",
    "##### *Which maximum depth do you think results in a model that best generalizes to unseen data?*\n",
    "The best maximum depth seems to be **3**.\n",
    "##### *What intuition lead you to this answer?*\n",
    "From 3 on the validation score seems to decrease and only the training score increases. Thus more depth than 3 seems to overfit the model."
   ]
  },
  {
   "cell_type": "markdown",
   "metadata": {},
   "source": [
    "-----\n",
    "\n",
    "## Evaluating Model Performance\n",
    "In this final section of the project, you will construct a model and make a prediction on the client's feature set using an optimized model from `fit_model`."
   ]
  },
  {
   "cell_type": "markdown",
   "metadata": {},
   "source": [
    "### Question 7 - Grid Search\n",
    "*What is the grid search technique and how it can be applied to optimize a learning algorithm?*"
   ]
  },
  {
   "cell_type": "markdown",
   "metadata": {},
   "source": [
    "**Answer: **\n",
    "##### *What is the grid search technique and how it can be applied to optimize a learning algorithm?*\n",
    "The grid search technique describes the searching for a optimal setting of a set of parameters. By defining a finite set of settings for each parameter the model can be tested against a metric and thus the best configuration for this special set of settings can be found.\n"
   ]
  },
  {
   "cell_type": "markdown",
   "metadata": {},
   "source": [
    "### Question 8 - Cross-Validation\n",
    "*What is the k-fold cross-validation training technique? What benefit does this technique provide for grid search when optimizing a model?*  \n",
    "**Hint:** Much like the reasoning behind having a testing set, what could go wrong with using grid search without a cross-validated set?"
   ]
  },
  {
   "cell_type": "markdown",
   "metadata": {},
   "source": [
    "**Answer: **\n",
    "##### *What is the k-fold cross-validation training technique?*\n",
    "With the k-fold cross-validation training technique you divide the data into k bins. Now you iterate k times and choose each time the i-th bin as test-data and the rest as training data. \n",
    "##### *What benefit does this technique provide for grid search when optimizing a model?*\n",
    "If you use grid search for a not cross-validated set your parameters might only be optimized for this particular training set you used. Thus you can ensure when using this technique that the parameters found by grid search are the best of the manually defined configurations for the whole data set."
   ]
  },
  {
   "cell_type": "markdown",
   "metadata": {},
   "source": [
    "### Implementation: Fitting a Model\n",
    "Your final implementation requires that you bring everything together and train a model using the **decision tree algorithm**. To ensure that you are producing an optimized model, you will train the model using the grid search technique to optimize the `'max_depth'` parameter for the decision tree. The `'max_depth'` parameter can be thought of as how many questions the decision tree algorithm is allowed to ask about the data before making a prediction. Decision trees are part of a class of algorithms called *supervised learning algorithms*.\n",
    "\n",
    "For the `fit_model` function in the code cell below, you will need to implement the following:\n",
    "- Use [`DecisionTreeRegressor`](http://scikit-learn.org/stable/modules/generated/sklearn.tree.DecisionTreeRegressor.html) from `sklearn.tree` to create a decision tree regressor object.\n",
    "  - Assign this object to the `'regressor'` variable.\n",
    "- Create a dictionary for `'max_depth'` with the values from 1 to 10, and assign this to the `'params'` variable.\n",
    "- Use [`make_scorer`](http://scikit-learn.org/stable/modules/generated/sklearn.metrics.make_scorer.html) from `sklearn.metrics` to create a scoring function object.\n",
    "  - Pass the `performance_metric` function as a parameter to the object.\n",
    "  - Assign this scoring function to the `'scoring_fnc'` variable.\n",
    "- Use [`GridSearchCV`](http://scikit-learn.org/stable/modules/generated/sklearn.grid_search.GridSearchCV.html) from `sklearn.grid_search` to create a grid search object.\n",
    "  - Pass the variables `'regressor'`, `'params'`, `'scoring_fnc'`, and `'cv_sets'` as parameters to the object. \n",
    "  - Assign the `GridSearchCV` object to the `'grid'` variable."
   ]
  },
  {
   "cell_type": "code",
   "execution_count": 32,
   "metadata": {
    "collapsed": false
   },
   "outputs": [],
   "source": [
    "# TODO: Import 'make_scorer', 'DecisionTreeRegressor', and 'GridSearchCV'\n",
    "from sklearn.metrics import make_scorer\n",
    "from sklearn.grid_search import GridSearchCV\n",
    "from sklearn.tree import DecisionTreeRegressor\n",
    "\n",
    "def fit_model(X, y):\n",
    "    \"\"\" Performs grid search over the 'max_depth' parameter for a \n",
    "        decision tree regressor trained on the input data [X, y]. \"\"\"\n",
    "    \n",
    "    # Create cross-validation sets from the training data\n",
    "    cv_sets = ShuffleSplit(X.shape[0], n_iter = 10, test_size = 0.20, random_state = 0)\n",
    "\n",
    "    # TODO: Create a decision tree regressor object\n",
    "    regressor = DecisionTreeRegressor()\n",
    "\n",
    "    # TODO: Create a dictionary for the parameter 'max_depth' with a range from 1 to 10\n",
    "    params = {'max_depth':[1,2,3,4,5,6,7,8,9,10]}\n",
    "\n",
    "    # TODO: Transform 'performance_metric' into a scoring function using 'make_scorer' \n",
    "    scoring_fnc = make_scorer(performance_metric)\n",
    "\n",
    "    # TODO: Create the grid search object\n",
    "    grid = GridSearchCV(regressor,params,scoring_fnc)\n",
    "\n",
    "    # Fit the grid search object to the data to compute the optimal model\n",
    "    grid = grid.fit(X, y)\n",
    "\n",
    "    # Return the optimal model after fitting the data\n",
    "    return grid.best_estimator_"
   ]
  },
  {
   "cell_type": "markdown",
   "metadata": {},
   "source": [
    "### Making Predictions\n",
    "Once a model has been trained on a given set of data, it can now be used to make predictions on new sets of input data. In the case of a *decision tree regressor*, the model has learned *what the best questions to ask about the input data are*, and can respond with a prediction for the **target variable**. You can use these predictions to gain information about data where the value of the target variable is unknown — such as data the model was not trained on."
   ]
  },
  {
   "cell_type": "markdown",
   "metadata": {},
   "source": [
    "### Question 9 - Optimal Model\n",
    "_What maximum depth does the optimal model have? How does this result compare to your guess in **Question 6**?_  \n",
    "\n",
    "Run the code block below to fit the decision tree regressor to the training data and produce an optimal model."
   ]
  },
  {
   "cell_type": "code",
   "execution_count": 34,
   "metadata": {
    "collapsed": false,
    "scrolled": true
   },
   "outputs": [
    {
     "name": "stdout",
     "output_type": "stream",
     "text": [
      "0.350691573918\n",
      "0.451847188047\n",
      "0.34158003922\n",
      "0.666529921335\n",
      "0.655222418397\n",
      "0.670375370142\n",
      "0.7634492151\n",
      "0.760319280744\n",
      "0.752097924235\n",
      "0.739507603587\n",
      "0.795463399884\n",
      "0.780591153218\n",
      "0.727308688771\n",
      "0.681803560887\n",
      "0.761953676153\n",
      "0.669922857117\n",
      "0.649996681046\n",
      "0.734017205009\n",
      "0.652155551703\n",
      "0.663233357455\n",
      "0.737961147508\n",
      "0.634958139856\n",
      "0.670915763156\n",
      "0.768954587058\n",
      "0.623532730785\n",
      "0.656543551463\n",
      "0.765257368256\n",
      "0.588855935428\n",
      "0.60922598429\n",
      "0.71311978077\n",
      "Parameter 'max_depth' is 4 for the optimal model.\n"
     ]
    }
   ],
   "source": [
    "# Fit the training data to the model using grid search\n",
    "reg = fit_model(X_train, y_train)\n",
    "\n",
    "# Produce the value for 'max_depth'\n",
    "print \"Parameter 'max_depth' is {} for the optimal model.\".format(reg.get_params()['max_depth'])"
   ]
  },
  {
   "cell_type": "markdown",
   "metadata": {},
   "source": [
    "**Answer: **\n",
    "##### *What maximum depth does the optimal model have?*\n",
    "Parameter 'max_depth' is 4 for the optimal model.\n",
    "\n",
    "##### *How does this result compare to your guess in Question 6?*\n",
    "In Question 6 I guessed 3 which had a higher validation score for the graph presented there."
   ]
  },
  {
   "cell_type": "markdown",
   "metadata": {},
   "source": [
    "### Question 10 - Predicting Selling Prices\n",
    "Imagine that you were a real estate agent in the Boston area looking to use this model to help price homes owned by your clients that they wish to sell. You have collected the following information from three of your clients:\n",
    "\n",
    "| Feature | Client 1 | Client 2 | Client 3 |\n",
    "| :---: | :---: | :---: | :---: |\n",
    "| Total number of rooms in home | 5 rooms | 4 rooms | 8 rooms |\n",
    "| Neighborhood poverty level (as %) | 17% | 32% | 3% |\n",
    "| Student-teacher ratio of nearby schools | 15-to-1 | 22-to-1 | 12-to-1 |\n",
    "*What price would you recommend each client sell his/her home at? Do these prices seem reasonable given the values for the respective features?*  \n",
    "**Hint:** Use the statistics you calculated in the **Data Exploration** section to help justify your response.  \n",
    "\n",
    "Run the code block below to have your optimized model make predictions for each client's home."
   ]
  },
  {
   "cell_type": "code",
   "execution_count": 35,
   "metadata": {
    "collapsed": false
   },
   "outputs": [
    {
     "name": "stdout",
     "output_type": "stream",
     "text": [
      "Predicted selling price for Client 1's home: $402,531.82\n",
      "Predicted selling price for Client 2's home: $237,900.00\n",
      "Predicted selling price for Client 3's home: $923,766.67\n"
     ]
    }
   ],
   "source": [
    "# Produce a matrix for client data\n",
    "client_data = [[5, 17, 15], # Client 1\n",
    "               [4, 32, 22], # Client 2\n",
    "               [8, 3, 12]]  # Client 3\n",
    "\n",
    "# Show predictions\n",
    "for i, price in enumerate(reg.predict(client_data)):\n",
    "    print \"Predicted selling price for Client {}'s home: ${:,.2f}\".format(i+1, price)"
   ]
  },
  {
   "cell_type": "markdown",
   "metadata": {},
   "source": [
    "**Answer: **\n",
    "##### *What price would you recommend each client sell his/her home at?*\n",
    "I would recommend Client 1 to sell his home at \\$ 400,000 Client 2 should try to sell it for at least \\$ 280,000, as the suggested price seems too low. I would suggest Client 3 to sell his house at \\$ 880,000.\n",
    "##### *Do these prices seem reasonable given the values for the respective features?*\n",
    "I think Client 1 seems resonable. Client 2 is too low, because a bad neighborhood and 1 room less dont account for more than \\$ 170,000 less. Client 3 might be a bit too expensive as the house is more than double the price of Client 1 with only 3 rooms more.<br/>\n",
    "<hr>\n",
    "Overall the features dont seem sufficient to me, to give a really reasonable recommendation to home sellers.\n"
   ]
  },
  {
   "cell_type": "markdown",
   "metadata": {},
   "source": [
    "### Sensitivity\n",
    "An optimal model is not necessarily a robust model. Sometimes, a model is either too complex or too simple to sufficiently generalize to new data. Sometimes, a model could use a learning algorithm that is not appropriate for the structure of the data given. Other times, the data itself could be too noisy or contain too few samples to allow a model to adequately capture the target variable — i.e., the model is underfitted. Run the code cell below to run the `fit_model` function ten times with different training and testing sets to see how the prediction for a specific client changes with the data it's trained on."
   ]
  },
  {
   "cell_type": "code",
   "execution_count": 36,
   "metadata": {
    "collapsed": false
   },
   "outputs": [
    {
     "name": "stdout",
     "output_type": "stream",
     "text": [
      "0.296395704806\n",
      "0.406028089559\n",
      "0.382860656793\n",
      "0.578815100042\n",
      "0.698434642122\n",
      "0.608684739636\n",
      "0.733142901988\n",
      "0.788917310873\n",
      "0.730748185834\n",
      "0.824896708399\n",
      "0.770233267546\n",
      "0.762858588665\n",
      "0.81913072563\n",
      "0.782395298532\n",
      "0.76467564979\n",
      "0.787124338105\n",
      "0.784017875846\n",
      "0.751348537388\n",
      "0.779035213778\n",
      "0.782709126981\n",
      "0.744547645331\n",
      "0.665567427261\n",
      "0.753653313072\n",
      "0.742310129572\n",
      "0.629769666657\n",
      "0.745343548115\n",
      "0.713153520453\n",
      "0.633351519649\n",
      "0.739380333184\n",
      "0.708065448675\n",
      "Trial 1: $411,000.00\n",
      "0.251490075832\n",
      "0.406521768931\n",
      "0.412004218022\n",
      "0.569755740846\n",
      "0.705816198048\n",
      "0.656443427009\n",
      "0.703073369848\n",
      "0.811798052738\n",
      "0.788190923669\n",
      "0.75570818806\n",
      "0.832965982046\n",
      "0.794324058919\n",
      "0.718172089987\n",
      "0.820209280956\n",
      "0.777666476353\n",
      "0.733989396662\n",
      "0.804351423135\n",
      "0.777379608726\n",
      "0.725959761791\n",
      "0.788530066307\n",
      "0.770906083754\n",
      "0.729207123721\n",
      "0.793024235134\n",
      "0.713626760982\n",
      "0.704129457353\n",
      "0.785394789255\n",
      "0.691266108718\n",
      "0.704041710705\n",
      "0.790339821123\n",
      "0.675538770678\n",
      "Trial 2: $411,417.39\n",
      "0.384414821334\n",
      "0.404970636066\n",
      "0.391495230363\n",
      "0.658887920313\n",
      "0.714994840079\n",
      "0.492506781657\n",
      "0.746470558814\n",
      "0.792188290075\n",
      "0.700229709829\n",
      "0.797599711327\n",
      "0.769851959258\n",
      "0.766726719068\n",
      "0.767953717453\n",
      "0.772247032045\n",
      "0.76487851149\n",
      "0.74809672299\n",
      "0.723914897962\n",
      "0.752861271619\n",
      "0.705117964116\n",
      "0.719236859215\n",
      "0.759527667443\n",
      "0.691262547654\n",
      "0.693589556649\n",
      "0.72021539526\n",
      "0.697416670944\n",
      "0.660304422377\n",
      "0.696783638745\n",
      "0.715080770561\n",
      "0.666318433857\n",
      "0.694580626275\n",
      "Trial 3: $415,800.00\n",
      "0.371160286241\n",
      "0.379420322007\n",
      "0.415323787854\n",
      "0.61319179751\n",
      "0.722223422997\n",
      "0.646723432341\n",
      "0.680373146541\n",
      "0.818152628498\n",
      "0.735500348471\n",
      "0.734178246683\n",
      "0.832756239459\n",
      "0.763856326051\n",
      "0.725722595222\n",
      "0.841418649718\n",
      "0.767451259215\n",
      "0.720298605555\n",
      "0.836434598696\n",
      "0.767498844108\n",
      "0.729983205645\n",
      "0.818736213852\n",
      "0.763515311928\n",
      "0.727598886675\n",
      "0.811787039633\n",
      "0.761472616092\n",
      "0.699074551937\n",
      "0.80592121301\n",
      "0.710434515842\n",
      "0.695831761537\n",
      "0.798921832012\n",
      "0.730219724603\n",
      "Trial 4: $428,316.00\n",
      "0.394071144057\n",
      "0.296416207675\n",
      "0.394038211979\n",
      "0.680132471967\n",
      "0.553998439856\n",
      "0.69078352934\n",
      "0.794153750484\n",
      "0.686859945841\n",
      "0.799205494442\n",
      "0.828008878044\n",
      "0.725296911762\n",
      "0.815909931447\n",
      "0.807094191008\n",
      "0.701516397138\n",
      "0.794212383372\n",
      "0.821088017522\n",
      "0.710825771735\n",
      "0.773312987072\n",
      "0.789028573769\n",
      "0.669486840616\n",
      "0.753456556774\n",
      "0.775436133317\n",
      "0.622267035348\n",
      "0.755364758422\n",
      "0.743081135022\n",
      "0.620697469568\n",
      "0.712074086297\n",
      "0.743896074787\n",
      "0.618768182183\n",
      "0.711191892434\n",
      "Trial 5: $413,334.78\n",
      "0.211997380919\n",
      "0.445694840887\n",
      "0.416016999389\n",
      "0.564597903868\n",
      "0.716713765237\n",
      "0.638089641936\n",
      "0.741408039508\n",
      "0.74786934259\n",
      "0.746316301989\n",
      "0.740963304816\n",
      "0.781703472455\n",
      "0.773972296443\n",
      "0.706663062468\n",
      "0.782820471863\n",
      "0.757157133878\n",
      "0.709827040279\n",
      "0.780278514203\n",
      "0.741817822299\n",
      "0.747054403967\n",
      "0.760785704472\n",
      "0.734093694248\n",
      "0.729990254483\n",
      "0.727060726041\n",
      "0.726810968952\n",
      "0.648135986327\n",
      "0.74997704892\n",
      "0.742728938484\n",
      "0.631440008566\n",
      "0.720181487273\n",
      "0.73668635892\n",
      "Trial 6: $411,931.58\n",
      "0.37601184254\n",
      "0.390966788976\n",
      "0.27242307583\n",
      "0.644403518436\n",
      "0.683336229599\n",
      "0.600343810308\n",
      "0.780077855961\n",
      "0.780113071052\n",
      "0.682225928023\n",
      "0.764283578804\n",
      "0.791188368204\n",
      "0.745039778079\n",
      "0.725723002406\n",
      "0.78472143583\n",
      "0.74602048928\n",
      "0.705284512278\n",
      "0.74929645389\n",
      "0.706876957683\n",
      "0.671796899745\n",
      "0.70260930157\n",
      "0.708679387341\n",
      "0.653865690665\n",
      "0.707258638233\n",
      "0.68828375694\n",
      "0.660009450626\n",
      "0.686795302993\n",
      "0.649400847921\n",
      "0.654691154582\n",
      "0.681681362178\n",
      "0.657830975831\n",
      "Trial 7: $399,663.16\n",
      "0.432056476273\n",
      "0.332891623988\n",
      "0.38653226748\n",
      "0.682969018379\n",
      "0.637979485683\n",
      "0.707019534565\n",
      "0.752752410852\n",
      "0.740762739787\n",
      "0.797099179087\n",
      "0.782345612195\n",
      "0.747331831059\n",
      "0.792859934444\n",
      "0.760536496563\n",
      "0.723674347293\n",
      "0.786616404995\n",
      "0.727846215337\n",
      "0.725499971474\n",
      "0.793574494484\n",
      "0.721358577951\n",
      "0.643269204926\n",
      "0.782006459944\n",
      "0.697016668139\n",
      "0.667901127449\n",
      "0.749873910798\n",
      "0.703128145834\n",
      "0.618659301839\n",
      "0.728826257306\n",
      "0.738766925619\n",
      "0.650574473189\n",
      "0.745644562831\n",
      "Trial 8: $407,232.00\n",
      "0.350691573918\n",
      "0.451847188047\n",
      "0.34158003922\n",
      "0.666529921335\n",
      "0.655222418397\n",
      "0.670375370142\n",
      "0.7634492151\n",
      "0.760319280744\n",
      "0.752097924235\n",
      "0.739507603587\n",
      "0.795463399884\n",
      "0.780591153218\n",
      "0.726598206376\n",
      "0.681803560887\n",
      "0.761953676153\n",
      "0.674321089525\n",
      "0.685541243582\n",
      "0.73632658408\n",
      "0.649188973119\n",
      "0.620314294934\n",
      "0.734895088026\n",
      "0.618753093137\n",
      "0.624047129873\n",
      "0.778727242814\n",
      "0.618203605427\n",
      "0.614364418491\n",
      "0.744869590475\n",
      "0.615409927444\n",
      "0.620640578334\n",
      "0.734469832164\n",
      "Trial 9: $402,531.82\n",
      "0.41820968753\n",
      "0.249511281972\n",
      "0.378477808364\n",
      "0.638857584311\n",
      "0.669895452514\n",
      "0.674279866001\n",
      "0.709403421628\n",
      "0.765498276349\n",
      "0.79241117139\n",
      "0.779498179324\n",
      "0.791087778427\n",
      "0.801581660268\n",
      "0.794991885235\n",
      "0.754293583695\n",
      "0.803574195019\n",
      "0.756884382866\n",
      "0.724447418633\n",
      "0.799577661001\n",
      "0.721006510612\n",
      "0.712057005274\n",
      "0.776962049221\n",
      "0.705967091127\n",
      "0.700241585525\n",
      "0.75494536461\n",
      "0.682592694026\n",
      "0.678153295989\n",
      "0.75146204705\n",
      "0.649286274792\n",
      "0.687956641525\n",
      "0.739954590101\n",
      "Trial 10: $413,700.00\n",
      "\n",
      "Range in prices: $28,652.84\n"
     ]
    }
   ],
   "source": [
    "vs.PredictTrials(features, prices, fit_model, client_data)"
   ]
  },
  {
   "cell_type": "markdown",
   "metadata": {},
   "source": [
    "### Question 11 - Applicability\n",
    "*In a few sentences, discuss whether the constructed model should or should not be used in a real-world setting.*  \n",
    "**Hint:** Some questions to answering:\n",
    "- *How relevant today is data that was collected from 1978?*\n",
    "- *Are the features present in the data sufficient to describe a home?*\n",
    "- *Is the model robust enough to make consistent predictions?*\n",
    "- *Would data collected in an urban city like Boston be applicable in a rural city?*"
   ]
  },
  {
   "cell_type": "markdown",
   "metadata": {},
   "source": [
    "**Answer: **\n",
    "#### *In a few sentences, discuss whether the constructed model should or should not be used in a real-world setting*\n",
    "##### *How relevant today is data that was collected from 1978?*\n",
    "This data is cleary outdated as the neighborhood and likings of home owners have cleary shifted. Thus the data is not that much relevant for today\n",
    "##### *Are the features present in the data sufficient to describe a home?*\n",
    "No. One of the biggest missing features is for example the size of the building and its property. For example two homes with the same amount of rooms might totally differ in size and therefore in prices.\n",
    "##### *Is the model robust enough to make consistent predictions?*\n",
    "I think the model is not robust enough to make consistent predictions because the few features used are not enough to make consistent future predictions.\n",
    "##### *Would data collected in an urban city like Boston be applicable in a rural city?*\n",
    "No. For example the pupil to teacher count might fit to Boston, but in a rural area there are often family friendly neighborhoods which have a higher pupil to teacher ratio but are really attracting to young families and therefore have higher prices in general."
   ]
  },
  {
   "cell_type": "code",
   "execution_count": null,
   "metadata": {
    "collapsed": true
   },
   "outputs": [],
   "source": []
  }
 ],
 "metadata": {
  "anaconda-cloud": {},
  "kernelspec": {
   "display_name": "Python [Root]",
   "language": "python",
   "name": "Python [Root]"
  },
  "language_info": {
   "codemirror_mode": {
    "name": "ipython",
    "version": 2
   },
   "file_extension": ".py",
   "mimetype": "text/x-python",
   "name": "python",
   "nbconvert_exporter": "python",
   "pygments_lexer": "ipython2",
   "version": "2.7.12"
  }
 },
 "nbformat": 4,
 "nbformat_minor": 0
}
