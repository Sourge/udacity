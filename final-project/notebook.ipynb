{
 "cells": [
  {
   "cell_type": "markdown",
   "metadata": {},
   "source": [
    "# Finding Resemblance to identify potential serial killers in homicide statistics #"
   ]
  },
  {
   "cell_type": "code",
   "execution_count": 2,
   "metadata": {
    "collapsed": false
   },
   "outputs": [],
   "source": [
    "import numpy as np # linear algebra\n",
    "import pandas as pd # data processing, CSV file I/O (e.g. pd.read_csv)"
   ]
  },
  {
   "cell_type": "markdown",
   "metadata": {},
   "source": [
    "## Loading the dataset ##"
   ]
  },
  {
   "cell_type": "code",
   "execution_count": 30,
   "metadata": {
    "collapsed": false
   },
   "outputs": [],
   "source": [
    "input_file1 = \"database1.csv\"\n",
    "input_file2 = \"database2.csv\"\n",
    "\n",
    "df1 = pd.read_csv(input_file1, header = 0)\n",
    "df2 = pd.read_csv(input_file2, header = 0)\n",
    "\n",
    "frames = [df1, df2]\n",
    "\n",
    "df = pd.concat(frames)\n",
    "\n",
    "states = df['State'].unique()\n",
    "years = df['Year'].unique()\n"
   ]
  },
  {
   "cell_type": "markdown",
   "metadata": {},
   "source": [
    "I had to split the database into two separate ones because of file limitations in github.\n",
    "With the code passage above I load the dataset and find all unique values for state and year."
   ]
  },
  {
   "cell_type": "code",
   "execution_count": 50,
   "metadata": {
    "collapsed": false
   },
   "outputs": [
    {
     "name": "stdout",
     "output_type": "stream",
     "text": [
      "Cases in 1980: 23080\n",
      "Cases in nan: 0\n",
      "Cases in 1981: 21195\n",
      "Cases in 1982: 20528\n",
      "Cases in 1983: 19646\n",
      "Cases in 1984: 18083\n",
      "Cases in 1985: 18381\n",
      "Cases in 1986: 20119\n",
      "Cases in 1987: 18777\n",
      "Cases in 1988: 18769\n",
      "Cases in 1989: 19859\n",
      "Cases in 1990: 21246\n",
      "Cases in 1991: 22655\n",
      "Cases in 1992: 23793\n",
      "Cases in 1993: 24335\n",
      "Cases in 1994: 23247\n",
      "Cases in 1995: 21179\n",
      "Cases in 1996: 18968\n",
      "Cases in 1997: 17794\n",
      "Cases in 1998: 16061\n",
      "Cases in 1999: 14621\n",
      "Cases in 2000: 14664\n",
      "Cases in 2001: 15802\n",
      "Cases in 2002: 16268\n",
      "Cases in 2003: 16509\n",
      "Cases in 2004: 16233\n",
      "Cases in 2005: 16835\n",
      "Cases in 2006: 17274\n",
      "Cases in 2007: 17303\n",
      "Cases in 2008: 15595\n",
      "Cases in 2009: 15840\n",
      "Cases in 2010: 15121\n",
      "Cases in 2011: 14756\n",
      "Cases in 2012: 15032\n",
      "Cases in 2013: 14444\n",
      "Cases in 2014: 14330\n",
      "Cases in Alaska: 1617\n",
      "Cases in Alabama: 11376\n",
      "Cases in Arkansas: 6947\n",
      "Cases in Arizona: 12871\n",
      "Cases in California: 99782\n",
      "Cases in Colorado: 6593\n",
      "Cases in Connecticut: 4896\n",
      "Cases in District of Columbia: 7115\n",
      "Cases in Delaware: 1179\n",
      "Cases in Florida: 37149\n",
      "Cases in Georgia: 21088\n",
      "Cases in Hawaii: 1338\n",
      "Cases in Iowa: 1749\n",
      "Cases in Idaho: 1150\n",
      "Cases in Illinois: 25871\n",
      "Cases in Indiana: 11464\n",
      "Cases in Kansas: 3085\n",
      "Cases in Kentucky: 6554\n",
      "Cases in Louisiana: 19628\n",
      "Cases in Massachusetts: 6035\n",
      "Cases in Maryland: 17312\n",
      "Cases in Maine: 869\n",
      "Cases in Michigan: 28448\n",
      "Cases in Minnesota: 3975\n",
      "Cases in Missouri: 14832\n",
      "Cases in Mississippi: 6546\n",
      "Cases in Montana: 601\n",
      "Cases in Nebraska: 1331\n",
      "Cases in North Carolina: 20390\n",
      "Cases in North Dakota: 308\n",
      "Cases in New Hampshire: 655\n",
      "Cases in New Jersey: 14037\n",
      "Cases in nan: 0\n",
      "Cases in New Mexico: 4272\n",
      "Cases in Nevada: 5553\n",
      "Cases in New York: 49268\n",
      "Cases in Ohio: 19158\n",
      "Cases in Oklahoma: 8809\n",
      "Cases in Oregon: 4217\n",
      "Cases in Pennsylvania: 24236\n",
      "Cases in Rhodes Island: 1211\n",
      "Cases in South Carolina: 11698\n",
      "Cases in South Dakota: 442\n",
      "Cases in Tennessee: 14930\n",
      "Cases in Texas: 62095\n",
      "Cases in Utah: 2033\n",
      "Cases in Virginia: 15520\n",
      "Cases in Vermont: 412\n",
      "Cases in Washington: 7815\n",
      "Cases in Wisconsin: 6191\n",
      "Cases in West Virginia: 3061\n",
      "Cases in Wyoming: 630\n"
     ]
    }
   ],
   "source": [
    "for year in years:  \n",
    "    case = df.loc[df['Year'] == year]\n",
    "    print \"Cases in %0.f: %0.f\" %(year, len(case))\n",
    "for state in states:  \n",
    "    case = df.loc[df['State'] == state]\n",
    "    print \"Cases in %s: %0.f\" %(state, len(case))"
   ]
  },
  {
   "cell_type": "code",
   "execution_count": null,
   "metadata": {
    "collapsed": true
   },
   "outputs": [],
   "source": []
  }
 ],
 "metadata": {
  "anaconda-cloud": {},
  "kernelspec": {
   "display_name": "Python [default]",
   "language": "python",
   "name": "python2"
  },
  "language_info": {
   "codemirror_mode": {
    "name": "ipython",
    "version": 2
   },
   "file_extension": ".py",
   "mimetype": "text/x-python",
   "name": "python",
   "nbconvert_exporter": "python",
   "pygments_lexer": "ipython2",
   "version": "2.7.12"
  }
 },
 "nbformat": 4,
 "nbformat_minor": 0
}
