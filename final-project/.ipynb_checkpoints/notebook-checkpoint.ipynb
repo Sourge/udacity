{
 "cells": [
  {
   "cell_type": "markdown",
   "metadata": {},
   "source": [
    "# Finding Resemblance to identify potential serial killers in homicide statistics #"
   ]
  },
  {
   "cell_type": "code",
   "execution_count": 2,
   "metadata": {
    "collapsed": false
   },
   "outputs": [],
   "source": [
    "import numpy as np # linear algebra\n",
    "import pandas as pd # data processing, CSV file I/O (e.g. pd.read_csv)"
   ]
  },
  {
   "cell_type": "markdown",
   "metadata": {},
   "source": [
    "## Loading the dataset ##"
   ]
  },
  {
   "cell_type": "code",
   "execution_count": 30,
   "metadata": {
    "collapsed": false
   },
   "outputs": [],
   "source": [
    "input_file1 = \"database1.csv\"\n",
    "input_file2 = \"database2.csv\"\n",
    "\n",
    "df1 = pd.read_csv(input_file1, header = 0)\n",
    "df2 = pd.read_csv(input_file2, header = 0)\n",
    "\n",
    "frames = [df1, df2]\n",
    "\n",
    "df = pd.concat(frames)\n",
    "\n",
    "states = df['State'].unique()\n",
    "years = df['Year'].unique()\n"
   ]
  },
  {
   "cell_type": "markdown",
   "metadata": {},
   "source": [
    "I had to split the database into two separate ones because of file limitations in github.\n",
    "With the code passage above I load the dataset and find all unique values for state and year."
   ]
  },
  {
   "cell_type": "code",
   "execution_count": 45,
   "metadata": {
    "collapsed": false
   },
   "outputs": [
    {
     "name": "stdout",
     "output_type": "stream",
     "text": [
      "Cases in 1980.000000: 23080.000000\n",
      "Cases in nan: 0.000000\n",
      "Cases in 1981.000000: 21195.000000\n",
      "Cases in 1982.000000: 20528.000000\n",
      "Cases in 1983.000000: 19646.000000\n",
      "Cases in 1984.000000: 18083.000000\n",
      "Cases in 1985.000000: 18381.000000\n",
      "Cases in 1986.000000: 20119.000000\n",
      "Cases in 1987.000000: 18777.000000\n",
      "Cases in 1988.000000: 18769.000000\n",
      "Cases in 1989.000000: 19859.000000\n",
      "Cases in 1990.000000: 21246.000000\n",
      "Cases in 1991.000000: 22655.000000\n",
      "Cases in 1992.000000: 23793.000000\n",
      "Cases in 1993.000000: 24335.000000\n",
      "Cases in 1994.000000: 23247.000000\n",
      "Cases in 1995.000000: 21179.000000\n",
      "Cases in 1996.000000: 18968.000000\n",
      "Cases in 1997.000000: 17794.000000\n",
      "Cases in 1998.000000: 16061.000000\n",
      "Cases in 1999.000000: 14621.000000\n",
      "Cases in 2000.000000: 14664.000000\n",
      "Cases in 2001.000000: 15802.000000\n",
      "Cases in 2002.000000: 16268.000000\n",
      "Cases in 2003.000000: 16509.000000\n",
      "Cases in 2004.000000: 16233.000000\n",
      "Cases in 2005.000000: 16835.000000\n",
      "Cases in 2006.000000: 17274.000000\n",
      "Cases in 2007.000000: 17303.000000\n",
      "Cases in 2008.000000: 15595.000000\n",
      "Cases in 2009.000000: 15840.000000\n",
      "Cases in 2010.000000: 15121.000000\n",
      "Cases in 2011.000000: 14756.000000\n",
      "Cases in 2012.000000: 15032.000000\n",
      "Cases in 2013.000000: 14444.000000\n",
      "Cases in 2014.000000: 14330.000000\n"
     ]
    }
   ],
   "source": [
    "for year in years:  \n",
    "    case = df.loc[df['Year'] == year]\n",
    "    print \"Cases in %f: %f\" %(year,len(case))"
   ]
  },
  {
   "cell_type": "code",
   "execution_count": null,
   "metadata": {
    "collapsed": true
   },
   "outputs": [],
   "source": []
  }
 ],
 "metadata": {
  "anaconda-cloud": {},
  "kernelspec": {
   "display_name": "Python [default]",
   "language": "python",
   "name": "python2"
  },
  "language_info": {
   "codemirror_mode": {
    "name": "ipython",
    "version": 2
   },
   "file_extension": ".py",
   "mimetype": "text/x-python",
   "name": "python",
   "nbconvert_exporter": "python",
   "pygments_lexer": "ipython2",
   "version": "2.7.12"
  }
 },
 "nbformat": 4,
 "nbformat_minor": 0
}
